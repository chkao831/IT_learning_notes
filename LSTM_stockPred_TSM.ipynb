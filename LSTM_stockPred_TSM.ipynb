{
 "cells": [
  {
   "cell_type": "markdown",
   "metadata": {},
   "source": [
    "Recurrent Neural Networks for predicting Times Series\n",
    "\n",
    "Stanford Research Paper Times Series Prediction with Recurrent Neural Networks to predict Google Stock Price. Comparable to even substantially better than Stanford's results in 2012 with LSTM, substantial research (10 days just researching) - did not believe the results as they were too good to be true, duty of care to disclose. Not possible to predict Stock Market to that extent, investigating the results, ideally it's impossible (100%) or results shown.\n",
    "\n",
    "What we suspect is going on here: real Google Stock price is in red and the predicted tcok price is in blue, should be shifted to the right and the RNN is taking the current amount and adding a little amount it percentage, and that's its prediction. Copy what happened today with a slight adjustment, bad news is that the RNN can't learn from the price as there's too many movement and cannot learn certain patterns and predict what's going on, pretty much just seeing what's it see today and adding a small value upward trend, not predict and not seem possible. Not possible with this kind of implementation. Good news is that all of the code is still valid, exactly how you'd construct an LSTM, how you'd add layers, how to tune it, how to add parameters and sets input for LSTM, still applicable.\n",
    "\n",
    "THe code is applicable. Sales pattern or volumes of customers still be able to apply the same template and check results -> shift by one. Unfortunately, Google stock price is not working across the board - fall into the same pitfall."
   ]
  },
  {
   "cell_type": "code",
   "execution_count": 38,
   "metadata": {},
   "outputs": [],
   "source": [
    "import pandas as pd\n",
    "import numpy as np\n",
    "import math\n",
    "import matplotlib.pyplot as plt\n",
    "%matplotlib inline\n",
    "from matplotlib.dates import DateFormatter\n",
    "import matplotlib.dates as mdates"
   ]
  },
  {
   "cell_type": "code",
   "execution_count": 2,
   "metadata": {},
   "outputs": [],
   "source": [
    "import seaborn as sns\n",
    "sns.set(context='notebook',\n",
    "        style='whitegrid',\n",
    "        palette='deep',\n",
    "        font='sans-serif',\n",
    "        font_scale=1,\n",
    "        color_codes=True,\n",
    "        rc=None)"
   ]
  },
  {
   "cell_type": "code",
   "execution_count": 3,
   "metadata": {},
   "outputs": [],
   "source": [
    "df_train = pd.read_csv('tsm_train.csv', sep = ',', error_bad_lines = False, warn_bad_lines = True)\n",
    "df_test = pd.read_csv('tsm_test.csv', sep = ',', error_bad_lines = False, warn_bad_lines = True)"
   ]
  },
  {
   "cell_type": "code",
   "execution_count": 19,
   "metadata": {},
   "outputs": [
    {
     "name": "stdout",
     "output_type": "stream",
     "text": [
      "Training DF shape: (1258, 7)\n",
      "Testing DF shape: (21, 7)\n"
     ]
    }
   ],
   "source": [
    "df_train.set_index(df_train.iloc[:,0], inplace=True)\n",
    "df_test.set_index(df_test.iloc[:,0], inplace=True)\n",
    "df_train = df_train.fillna(method='ffill', downcast='infer') # Replacing nan values with forward fill\n",
    "df_test = df_test.fillna(method='ffill', downcast='infer')\n",
    "print('Training DF shape: {}'.format(df_train.shape))\n",
    "print('Testing DF shape: {}'.format(df_test.shape))"
   ]
  },
  {
   "cell_type": "code",
   "execution_count": 20,
   "metadata": {},
   "outputs": [
    {
     "data": {
      "text/html": [
       "<div>\n",
       "<style scoped>\n",
       "    .dataframe tbody tr th:only-of-type {\n",
       "        vertical-align: middle;\n",
       "    }\n",
       "\n",
       "    .dataframe tbody tr th {\n",
       "        vertical-align: top;\n",
       "    }\n",
       "\n",
       "    .dataframe thead th {\n",
       "        text-align: right;\n",
       "    }\n",
       "</style>\n",
       "<table border=\"1\" class=\"dataframe\">\n",
       "  <thead>\n",
       "    <tr style=\"text-align: right;\">\n",
       "      <th></th>\n",
       "      <th>Date</th>\n",
       "      <th>Open</th>\n",
       "      <th>High</th>\n",
       "      <th>Low</th>\n",
       "      <th>Close</th>\n",
       "      <th>Adj Close</th>\n",
       "      <th>Volume</th>\n",
       "    </tr>\n",
       "    <tr>\n",
       "      <th>Date</th>\n",
       "      <th></th>\n",
       "      <th></th>\n",
       "      <th></th>\n",
       "      <th></th>\n",
       "      <th></th>\n",
       "      <th></th>\n",
       "      <th></th>\n",
       "    </tr>\n",
       "  </thead>\n",
       "  <tbody>\n",
       "    <tr>\n",
       "      <th>2016-08-01</th>\n",
       "      <td>2016-08-01</td>\n",
       "      <td>28.35</td>\n",
       "      <td>28.75</td>\n",
       "      <td>28.35</td>\n",
       "      <td>28.620001</td>\n",
       "      <td>24.683821</td>\n",
       "      <td>7328200</td>\n",
       "    </tr>\n",
       "  </tbody>\n",
       "</table>\n",
       "</div>"
      ],
      "text/plain": [
       "                  Date   Open   High    Low      Close  Adj Close   Volume\n",
       "Date                                                                      \n",
       "2016-08-01  2016-08-01  28.35  28.75  28.35  28.620001  24.683821  7328200"
      ]
     },
     "execution_count": 20,
     "metadata": {},
     "output_type": "execute_result"
    }
   ],
   "source": [
    "df_train.head(1)"
   ]
  },
  {
   "cell_type": "code",
   "execution_count": 21,
   "metadata": {},
   "outputs": [
    {
     "data": {
      "text/html": [
       "<div>\n",
       "<style scoped>\n",
       "    .dataframe tbody tr th:only-of-type {\n",
       "        vertical-align: middle;\n",
       "    }\n",
       "\n",
       "    .dataframe tbody tr th {\n",
       "        vertical-align: top;\n",
       "    }\n",
       "\n",
       "    .dataframe thead th {\n",
       "        text-align: right;\n",
       "    }\n",
       "</style>\n",
       "<table border=\"1\" class=\"dataframe\">\n",
       "  <thead>\n",
       "    <tr style=\"text-align: right;\">\n",
       "      <th></th>\n",
       "      <th>Date</th>\n",
       "      <th>Open</th>\n",
       "      <th>High</th>\n",
       "      <th>Low</th>\n",
       "      <th>Close</th>\n",
       "      <th>Adj Close</th>\n",
       "      <th>Volume</th>\n",
       "    </tr>\n",
       "    <tr>\n",
       "      <th>Date</th>\n",
       "      <th></th>\n",
       "      <th></th>\n",
       "      <th></th>\n",
       "      <th></th>\n",
       "      <th></th>\n",
       "      <th></th>\n",
       "      <th></th>\n",
       "    </tr>\n",
       "  </thead>\n",
       "  <tbody>\n",
       "    <tr>\n",
       "      <th>2021-07-29</th>\n",
       "      <td>2021-07-29</td>\n",
       "      <td>116.0</td>\n",
       "      <td>117.110001</td>\n",
       "      <td>115.610001</td>\n",
       "      <td>116.150002</td>\n",
       "      <td>116.150002</td>\n",
       "      <td>7162000</td>\n",
       "    </tr>\n",
       "  </tbody>\n",
       "</table>\n",
       "</div>"
      ],
      "text/plain": [
       "                  Date   Open        High         Low       Close   Adj Close  \\\n",
       "Date                                                                            \n",
       "2021-07-29  2021-07-29  116.0  117.110001  115.610001  116.150002  116.150002   \n",
       "\n",
       "             Volume  \n",
       "Date                 \n",
       "2021-07-29  7162000  "
      ]
     },
     "execution_count": 21,
     "metadata": {},
     "output_type": "execute_result"
    }
   ],
   "source": [
    "df_train.tail(1)"
   ]
  },
  {
   "cell_type": "code",
   "execution_count": 22,
   "metadata": {},
   "outputs": [
    {
     "data": {
      "text/html": [
       "<div>\n",
       "<style scoped>\n",
       "    .dataframe tbody tr th:only-of-type {\n",
       "        vertical-align: middle;\n",
       "    }\n",
       "\n",
       "    .dataframe tbody tr th {\n",
       "        vertical-align: top;\n",
       "    }\n",
       "\n",
       "    .dataframe thead th {\n",
       "        text-align: right;\n",
       "    }\n",
       "</style>\n",
       "<table border=\"1\" class=\"dataframe\">\n",
       "  <thead>\n",
       "    <tr style=\"text-align: right;\">\n",
       "      <th></th>\n",
       "      <th>Date</th>\n",
       "      <th>Open</th>\n",
       "      <th>High</th>\n",
       "      <th>Low</th>\n",
       "      <th>Close</th>\n",
       "      <th>Adj Close</th>\n",
       "      <th>Volume</th>\n",
       "    </tr>\n",
       "    <tr>\n",
       "      <th>Date</th>\n",
       "      <th></th>\n",
       "      <th></th>\n",
       "      <th></th>\n",
       "      <th></th>\n",
       "      <th></th>\n",
       "      <th></th>\n",
       "      <th></th>\n",
       "    </tr>\n",
       "  </thead>\n",
       "  <tbody>\n",
       "    <tr>\n",
       "      <th>2021-08-02</th>\n",
       "      <td>2021-08-02</td>\n",
       "      <td>117.5</td>\n",
       "      <td>118.379997</td>\n",
       "      <td>116.660004</td>\n",
       "      <td>116.860001</td>\n",
       "      <td>116.860001</td>\n",
       "      <td>6028800</td>\n",
       "    </tr>\n",
       "  </tbody>\n",
       "</table>\n",
       "</div>"
      ],
      "text/plain": [
       "                  Date   Open        High         Low       Close   Adj Close  \\\n",
       "Date                                                                            \n",
       "2021-08-02  2021-08-02  117.5  118.379997  116.660004  116.860001  116.860001   \n",
       "\n",
       "             Volume  \n",
       "Date                 \n",
       "2021-08-02  6028800  "
      ]
     },
     "execution_count": 22,
     "metadata": {},
     "output_type": "execute_result"
    }
   ],
   "source": [
    "df_test.head(1)"
   ]
  },
  {
   "cell_type": "code",
   "execution_count": 23,
   "metadata": {},
   "outputs": [
    {
     "data": {
      "text/html": [
       "<div>\n",
       "<style scoped>\n",
       "    .dataframe tbody tr th:only-of-type {\n",
       "        vertical-align: middle;\n",
       "    }\n",
       "\n",
       "    .dataframe tbody tr th {\n",
       "        vertical-align: top;\n",
       "    }\n",
       "\n",
       "    .dataframe thead th {\n",
       "        text-align: right;\n",
       "    }\n",
       "</style>\n",
       "<table border=\"1\" class=\"dataframe\">\n",
       "  <thead>\n",
       "    <tr style=\"text-align: right;\">\n",
       "      <th></th>\n",
       "      <th>Date</th>\n",
       "      <th>Open</th>\n",
       "      <th>High</th>\n",
       "      <th>Low</th>\n",
       "      <th>Close</th>\n",
       "      <th>Adj Close</th>\n",
       "      <th>Volume</th>\n",
       "    </tr>\n",
       "    <tr>\n",
       "      <th>Date</th>\n",
       "      <th></th>\n",
       "      <th></th>\n",
       "      <th></th>\n",
       "      <th></th>\n",
       "      <th></th>\n",
       "      <th></th>\n",
       "      <th></th>\n",
       "    </tr>\n",
       "  </thead>\n",
       "  <tbody>\n",
       "    <tr>\n",
       "      <th>2021-08-30</th>\n",
       "      <td>2021-08-30</td>\n",
       "      <td>118.879997</td>\n",
       "      <td>119.5</td>\n",
       "      <td>118.470001</td>\n",
       "      <td>118.989998</td>\n",
       "      <td>118.989998</td>\n",
       "      <td>6434200</td>\n",
       "    </tr>\n",
       "  </tbody>\n",
       "</table>\n",
       "</div>"
      ],
      "text/plain": [
       "                  Date        Open   High         Low       Close   Adj Close  \\\n",
       "Date                                                                            \n",
       "2021-08-30  2021-08-30  118.879997  119.5  118.470001  118.989998  118.989998   \n",
       "\n",
       "             Volume  \n",
       "Date                 \n",
       "2021-08-30  6434200  "
      ]
     },
     "execution_count": 23,
     "metadata": {},
     "output_type": "execute_result"
    }
   ],
   "source": [
    "df_test.tail(1)"
   ]
  },
  {
   "cell_type": "code",
   "execution_count": 28,
   "metadata": {},
   "outputs": [
    {
     "data": {
      "image/png": "[encoded data removed]",
      "text/plain": [
       "<Figure size 1440x720 with 1 Axes>"
      ]
     },
     "metadata": {},
     "output_type": "display_data"
    }
   ],
   "source": [
    "df_train.iloc[:, 1:2].plot(figsize=(20,10))\n",
    "plt.show()"
   ]
  },
  {
   "cell_type": "code",
   "execution_count": 52,
   "metadata": {},
   "outputs": [
    {
     "name": "stdout",
     "output_type": "stream",
     "text": [
      "21\n"
     ]
    },
    {
     "data": {
      "image/png": "[encoded data removed]",
      "text/plain": [
       "<Figure size 1440x720 with 1 Axes>"
      ]
     },
     "metadata": {
      "needs_background": "light"
     },
     "output_type": "display_data"
    }
   ],
   "source": [
    "df_test.iloc[:, 1:2].plot(figsize=(20,10))\n",
    "print(len(df_test))\n",
    "plt.show()"
   ]
  },
  {
   "cell_type": "code",
   "execution_count": 24,
   "metadata": {},
   "outputs": [],
   "source": [
    "training_set = df_train.iloc[:, 1:2].values # 取「Open」欄位值\n",
    "testing_set = df_test.iloc[:, 1:2].values # 取「Open」欄位值"
   ]
  },
  {
   "cell_type": "code",
   "execution_count": 30,
   "metadata": {},
   "outputs": [],
   "source": [
    "# Feature Scaling\n",
    "from sklearn.preprocessing import MinMaxScaler\n",
    "\n",
    "sc = MinMaxScaler(feature_range = (0, 1))\n",
    "training_set_scaled = sc.fit_transform(training_set)"
   ]
  },
  {
   "cell_type": "markdown",
   "metadata": {},
   "source": [
    "準備進入訓練的資料格式：設定 Timestep\n",
    "Timesteps 設為 60 ，代表過去 60 天的資訊，嘗試過數值設置太少，將使 RNN 無法學習。"
   ]
  },
  {
   "cell_type": "code",
   "execution_count": 31,
   "metadata": {},
   "outputs": [],
   "source": [
    "X_train = []   #預測點的前 60 天的資料\n",
    "y_train = []   #預測點\n",
    "for i in range(60, 1258):  # 1258 是訓練集總數\n",
    "    X_train.append(training_set_scaled[i-60:i, 0])\n",
    "    y_train.append(training_set_scaled[i, 0])\n",
    "X_train, y_train = np.array(X_train), np.array(y_train)  # 轉成numpy array的格式，以利輸入 RNN"
   ]
  },
  {
   "cell_type": "markdown",
   "metadata": {},
   "source": [
    "Reshape\n",
    "因為現在 X_train 是 2-dimension，將它 reshape 成 3-dimension: [stock prices, timesteps, indicators]"
   ]
  },
  {
   "cell_type": "code",
   "execution_count": 32,
   "metadata": {},
   "outputs": [],
   "source": [
    "X_train = np.reshape(X_train, (X_train.shape[0], X_train.shape[1], 1))"
   ]
  },
  {
   "cell_type": "code",
   "execution_count": 34,
   "metadata": {},
   "outputs": [
    {
     "name": "stdout",
     "output_type": "stream",
     "text": [
      "Requirement already satisfied: Keras in /Users/chih-hsuankao/.local/lib/python3.7/site-packages (2.6.0)\n",
      "Note: you may need to restart the kernel to use updated packages.\n"
     ]
    }
   ],
   "source": [
    "pip install Keras --user"
   ]
  },
  {
   "cell_type": "code",
   "execution_count": 36,
   "metadata": {},
   "outputs": [],
   "source": [
    "from keras.models import Sequential\n",
    "from keras.layers import Dense\n",
    "from keras.layers import LSTM\n",
    "from keras.layers import Dropout"
   ]
  },
  {
   "cell_type": "code",
   "execution_count": 37,
   "metadata": {},
   "outputs": [],
   "source": [
    "# Initialising the RNN\n",
    "regressor = Sequential()"
   ]
  },
  {
   "cell_type": "markdown",
   "metadata": {},
   "source": [
    "搭建 LSTM layer:\n",
    "units: 神經元的數目\n",
    "第一層的 LSTM Layer 記得要設定input_shape參數\n",
    "搭配使用dropout，這裡設為 0.2\n",
    "由於這邊的第四層 LSTM Layer 即將跟 Ouput Layer 做連接，因此注意這邊的 return_sequences 設為預設值 False （也就是不用寫上 return_sequences）"
   ]
  },
  {
   "cell_type": "code",
   "execution_count": 39,
   "metadata": {},
   "outputs": [],
   "source": [
    "# Adding the first LSTM layer and some Dropout regularisation\n",
    "regressor.add(LSTM(units = 50, return_sequences = True, input_shape = (X_train.shape[1], 1)))\n",
    "regressor.add(Dropout(0.2))\n",
    "\n",
    "# Adding a second LSTM layer and some Dropout regularisation\n",
    "regressor.add(LSTM(units = 50, return_sequences = True))\n",
    "regressor.add(Dropout(0.2))\n",
    "\n",
    "# Adding a third LSTM layer and some Dropout regularisation\n",
    "regressor.add(LSTM(units = 50, return_sequences = True))\n",
    "regressor.add(Dropout(0.2))\n",
    "\n",
    "# Adding a fourth LSTM layer and some Dropout regularisation\n",
    "regressor.add(LSTM(units = 50))\n",
    "regressor.add(Dropout(0.2))"
   ]
  },
  {
   "cell_type": "markdown",
   "metadata": {},
   "source": [
    "Ouput Layer: units 設為 1"
   ]
  },
  {
   "cell_type": "code",
   "execution_count": 40,
   "metadata": {},
   "outputs": [],
   "source": [
    "# Adding the output layer\n",
    "regressor.add(Dense(units = 1))"
   ]
  },
  {
   "cell_type": "code",
   "execution_count": 65,
   "metadata": {},
   "outputs": [
    {
     "name": "stdout",
     "output_type": "stream",
     "text": [
      "Model: \"sequential\"\n",
      "_________________________________________________________________\n",
      "Layer (type)                 Output Shape              Param #   \n",
      "=================================================================\n",
      "lstm (LSTM)                  (None, 60, 50)            10400     \n",
      "_________________________________________________________________\n",
      "dropout (Dropout)            (None, 60, 50)            0         \n",
      "_________________________________________________________________\n",
      "lstm_1 (LSTM)                (None, 60, 50)            20200     \n",
      "_________________________________________________________________\n",
      "dropout_1 (Dropout)          (None, 60, 50)            0         \n",
      "_________________________________________________________________\n",
      "lstm_2 (LSTM)                (None, 60, 50)            20200     \n",
      "_________________________________________________________________\n",
      "dropout_2 (Dropout)          (None, 60, 50)            0         \n",
      "_________________________________________________________________\n",
      "lstm_3 (LSTM)                (None, 50)                20200     \n",
      "_________________________________________________________________\n",
      "dropout_3 (Dropout)          (None, 50)                0         \n",
      "_________________________________________________________________\n",
      "dense (Dense)                (None, 1)                 51        \n",
      "=================================================================\n",
      "Total params: 71,051\n",
      "Trainable params: 71,051\n",
      "Non-trainable params: 0\n",
      "_________________________________________________________________\n"
     ]
    }
   ],
   "source": [
    "regressor.summary()"
   ]
  },
  {
   "cell_type": "markdown",
   "metadata": {},
   "source": [
    "Compiling & Fitting LSTM model\n",
    "optimizer: 選擇 Adam\n",
    "loss: 使用 MSE"
   ]
  },
  {
   "cell_type": "code",
   "execution_count": 69,
   "metadata": {},
   "outputs": [
    {
     "name": "stdout",
     "output_type": "stream",
     "text": [
      "Epoch 1/100\n",
      "38/38 [==============================] - 7s 55ms/step - loss: 0.0011\n",
      "Epoch 2/100\n",
      "38/38 [==============================] - 2s 56ms/step - loss: 9.0298e-04\n",
      "Epoch 3/100\n",
      "38/38 [==============================] - 2s 54ms/step - loss: 9.3200e-04\n",
      "Epoch 4/100\n",
      "38/38 [==============================] - 2s 54ms/step - loss: 8.5083e-04\n",
      "Epoch 5/100\n",
      "38/38 [==============================] - 2s 55ms/step - loss: 8.3312e-04\n",
      "Epoch 6/100\n",
      "38/38 [==============================] - 2s 53ms/step - loss: 8.8960e-04\n",
      "Epoch 7/100\n",
      "38/38 [==============================] - 2s 55ms/step - loss: 9.3031e-04\n",
      "Epoch 8/100\n",
      "38/38 [==============================] - 2s 58ms/step - loss: 8.6244e-04\n",
      "Epoch 9/100\n",
      "38/38 [==============================] - 2s 57ms/step - loss: 8.3436e-04\n",
      "Epoch 10/100\n",
      "38/38 [==============================] - 2s 58ms/step - loss: 8.2593e-04\n",
      "Epoch 11/100\n",
      "38/38 [==============================] - 2s 55ms/step - loss: 0.0011\n",
      "Epoch 12/100\n",
      "38/38 [==============================] - 2s 55ms/step - loss: 8.9542e-04\n",
      "Epoch 13/100\n",
      "38/38 [==============================] - 2s 55ms/step - loss: 8.1954e-04\n",
      "Epoch 14/100\n",
      "38/38 [==============================] - 2s 55ms/step - loss: 8.7965e-04\n",
      "Epoch 15/100\n",
      "38/38 [==============================] - 2s 56ms/step - loss: 7.9823e-04\n",
      "Epoch 16/100\n",
      "38/38 [==============================] - 2s 57ms/step - loss: 7.2834e-04\n",
      "Epoch 17/100\n",
      "38/38 [==============================] - 2s 55ms/step - loss: 8.1785e-04\n",
      "Epoch 18/100\n",
      "38/38 [==============================] - 2s 55ms/step - loss: 8.7986e-04\n",
      "Epoch 19/100\n",
      "38/38 [==============================] - 2s 55ms/step - loss: 8.9318e-04\n",
      "Epoch 20/100\n",
      "38/38 [==============================] - 2s 56ms/step - loss: 9.5783e-04\n",
      "Epoch 21/100\n",
      "38/38 [==============================] - 2s 57ms/step - loss: 7.6027e-04\n",
      "Epoch 22/100\n",
      "38/38 [==============================] - 2s 59ms/step - loss: 8.7641e-04\n",
      "Epoch 23/100\n",
      "38/38 [==============================] - 2s 58ms/step - loss: 8.0300e-04\n",
      "Epoch 24/100\n",
      "38/38 [==============================] - 2s 56ms/step - loss: 7.7947e-04\n",
      "Epoch 25/100\n",
      "38/38 [==============================] - 2s 57ms/step - loss: 8.9888e-04\n",
      "Epoch 26/100\n",
      "38/38 [==============================] - 2s 58ms/step - loss: 8.1034e-04\n",
      "Epoch 27/100\n",
      "38/38 [==============================] - 2s 57ms/step - loss: 9.2007e-04\n",
      "Epoch 28/100\n",
      "38/38 [==============================] - 2s 57ms/step - loss: 0.0010\n",
      "Epoch 29/100\n",
      "38/38 [==============================] - 2s 59ms/step - loss: 8.8109e-04\n",
      "Epoch 30/100\n",
      "38/38 [==============================] - 2s 57ms/step - loss: 8.1674e-04\n",
      "Epoch 31/100\n",
      "38/38 [==============================] - 2s 57ms/step - loss: 6.9109e-04\n",
      "Epoch 32/100\n",
      "38/38 [==============================] - 2s 58ms/step - loss: 7.5850e-04\n",
      "Epoch 33/100\n",
      "38/38 [==============================] - 2s 59ms/step - loss: 7.0057e-04\n",
      "Epoch 34/100\n",
      "38/38 [==============================] - 2s 58ms/step - loss: 7.4529e-04\n",
      "Epoch 35/100\n",
      "38/38 [==============================] - 2s 57ms/step - loss: 8.4560e-04\n",
      "Epoch 36/100\n",
      "38/38 [==============================] - 2s 58ms/step - loss: 9.1786e-04\n",
      "Epoch 37/100\n",
      "38/38 [==============================] - 2s 58ms/step - loss: 7.7511e-04\n",
      "Epoch 38/100\n",
      "38/38 [==============================] - 2s 59ms/step - loss: 9.3163e-04\n",
      "Epoch 39/100\n",
      "38/38 [==============================] - 2s 58ms/step - loss: 0.0011\n",
      "Epoch 40/100\n",
      "38/38 [==============================] - 2s 57ms/step - loss: 9.1328e-04\n",
      "Epoch 41/100\n",
      "38/38 [==============================] - 2s 58ms/step - loss: 8.1239e-04\n",
      "Epoch 42/100\n",
      "38/38 [==============================] - 2s 59ms/step - loss: 8.8219e-04\n",
      "Epoch 43/100\n",
      "38/38 [==============================] - 2s 59ms/step - loss: 8.1136e-04\n",
      "Epoch 44/100\n",
      "38/38 [==============================] - 2s 58ms/step - loss: 6.9223e-04\n",
      "Epoch 45/100\n",
      "38/38 [==============================] - 2s 59ms/step - loss: 6.7468e-04\n",
      "Epoch 46/100\n",
      "38/38 [==============================] - 2s 59ms/step - loss: 7.0965e-04\n",
      "Epoch 47/100\n",
      "38/38 [==============================] - 2s 59ms/step - loss: 9.1078e-04\n",
      "Epoch 48/100\n",
      "38/38 [==============================] - 2s 59ms/step - loss: 7.6715e-04\n",
      "Epoch 49/100\n",
      "38/38 [==============================] - 2s 58ms/step - loss: 7.7322e-04\n",
      "Epoch 50/100\n",
      "38/38 [==============================] - 2s 59ms/step - loss: 7.9446e-04\n",
      "Epoch 51/100\n",
      "38/38 [==============================] - 2s 58ms/step - loss: 9.8625e-04\n",
      "Epoch 52/100\n",
      "38/38 [==============================] - 2s 59ms/step - loss: 7.8786e-04\n",
      "Epoch 53/100\n",
      "38/38 [==============================] - 2s 59ms/step - loss: 7.4065e-04\n",
      "Epoch 54/100\n",
      "38/38 [==============================] - 2s 59ms/step - loss: 8.2881e-04\n",
      "Epoch 55/100\n",
      "38/38 [==============================] - 2s 60ms/step - loss: 9.9978e-04\n",
      "Epoch 56/100\n",
      "38/38 [==============================] - 2s 62ms/step - loss: 7.0317e-04\n",
      "Epoch 57/100\n",
      "38/38 [==============================] - 2s 61ms/step - loss: 7.6782e-04\n",
      "Epoch 58/100\n",
      "38/38 [==============================] - 2s 58ms/step - loss: 7.1602e-04\n",
      "Epoch 59/100\n",
      "38/38 [==============================] - 2s 57ms/step - loss: 8.5216e-04\n",
      "Epoch 60/100\n",
      "38/38 [==============================] - 2s 59ms/step - loss: 8.1150e-04\n",
      "Epoch 61/100\n",
      "38/38 [==============================] - 2s 63ms/step - loss: 6.8066e-04\n",
      "Epoch 62/100\n",
      "38/38 [==============================] - 2s 63ms/step - loss: 6.1998e-04\n",
      "Epoch 63/100\n",
      "38/38 [==============================] - 2s 58ms/step - loss: 6.9770e-04\n",
      "Epoch 64/100\n",
      "38/38 [==============================] - 2s 57ms/step - loss: 7.1827e-04\n",
      "Epoch 65/100\n",
      "38/38 [==============================] - 2s 59ms/step - loss: 7.2215e-04\n",
      "Epoch 66/100\n",
      "38/38 [==============================] - 2s 62ms/step - loss: 7.2853e-04\n",
      "Epoch 67/100\n",
      "38/38 [==============================] - 2s 60ms/step - loss: 0.0012\n",
      "Epoch 68/100\n",
      "38/38 [==============================] - 2s 60ms/step - loss: 8.0089e-04\n",
      "Epoch 69/100\n",
      "38/38 [==============================] - 2s 63ms/step - loss: 8.9543e-04\n",
      "Epoch 70/100\n",
      "38/38 [==============================] - 2s 63ms/step - loss: 7.1597e-04\n",
      "Epoch 71/100\n",
      "38/38 [==============================] - 2s 63ms/step - loss: 7.6205e-04\n",
      "Epoch 72/100\n",
      "38/38 [==============================] - 2s 62ms/step - loss: 7.7406e-04\n",
      "Epoch 73/100\n",
      "38/38 [==============================] - 2s 62ms/step - loss: 7.3214e-04\n",
      "Epoch 74/100\n",
      "38/38 [==============================] - 2s 59ms/step - loss: 6.7605e-04\n",
      "Epoch 75/100\n",
      "38/38 [==============================] - 2s 59ms/step - loss: 7.0727e-04\n",
      "Epoch 76/100\n",
      "38/38 [==============================] - 2s 58ms/step - loss: 8.0936e-04\n",
      "Epoch 77/100\n",
      "38/38 [==============================] - 2s 59ms/step - loss: 7.5020e-04\n",
      "Epoch 78/100\n",
      "38/38 [==============================] - 2s 60ms/step - loss: 9.7336e-04\n",
      "Epoch 79/100\n",
      "38/38 [==============================] - 2s 60ms/step - loss: 6.4801e-04\n",
      "Epoch 80/100\n",
      "38/38 [==============================] - 2s 62ms/step - loss: 8.2498e-04\n",
      "Epoch 81/100\n",
      "38/38 [==============================] - 2s 62ms/step - loss: 7.7959e-04\n",
      "Epoch 82/100\n",
      "38/38 [==============================] - 2s 58ms/step - loss: 6.3693e-04\n",
      "Epoch 83/100\n",
      "38/38 [==============================] - 2s 58ms/step - loss: 6.8188e-04\n",
      "Epoch 84/100\n",
      "38/38 [==============================] - 2s 58ms/step - loss: 7.7733e-04\n",
      "Epoch 85/100\n",
      "38/38 [==============================] - 2s 58ms/step - loss: 6.4969e-04\n",
      "Epoch 86/100\n",
      "38/38 [==============================] - 2s 60ms/step - loss: 7.6387e-04\n",
      "Epoch 87/100\n",
      "38/38 [==============================] - 2s 58ms/step - loss: 7.0422e-04\n",
      "Epoch 88/100\n",
      "38/38 [==============================] - 2s 61ms/step - loss: 7.1459e-04\n",
      "Epoch 89/100\n",
      "38/38 [==============================] - 3s 69ms/step - loss: 7.4363e-04\n",
      "Epoch 90/100\n",
      "38/38 [==============================] - 2s 62ms/step - loss: 7.3062e-04\n",
      "Epoch 91/100\n",
      "38/38 [==============================] - 2s 64ms/step - loss: 6.4023e-04\n",
      "Epoch 92/100\n",
      "38/38 [==============================] - 2s 62ms/step - loss: 5.9231e-04\n",
      "Epoch 93/100\n",
      "38/38 [==============================] - 2s 60ms/step - loss: 7.1446e-04\n",
      "Epoch 94/100\n",
      "38/38 [==============================] - 2s 62ms/step - loss: 6.1663e-04\n",
      "Epoch 95/100\n",
      "38/38 [==============================] - 2s 62ms/step - loss: 7.3814e-04\n",
      "Epoch 96/100\n"
     ]
    },
    {
     "name": "stdout",
     "output_type": "stream",
     "text": [
      "38/38 [==============================] - 2s 62ms/step - loss: 6.5117e-04\n",
      "Epoch 97/100\n",
      "38/38 [==============================] - 2s 62ms/step - loss: 7.0779e-04\n",
      "Epoch 98/100\n",
      "38/38 [==============================] - 2s 61ms/step - loss: 7.1414e-04\n",
      "Epoch 99/100\n",
      "38/38 [==============================] - 2s 59ms/step - loss: 6.5726e-04\n",
      "Epoch 100/100\n",
      "38/38 [==============================] - 2s 61ms/step - loss: 7.3419e-04\n"
     ]
    }
   ],
   "source": [
    "# Compiling\n",
    "regressor.compile(optimizer = 'adam', loss = 'mean_squared_error')\n",
    "\n",
    "# 進行訓練\n",
    "history = regressor.fit(X_train, y_train, epochs = 100, batch_size = 32)"
   ]
  },
  {
   "cell_type": "code",
   "execution_count": 73,
   "metadata": {},
   "outputs": [
    {
     "data": {
      "image/png": "[encoded data removed]",
      "text/plain": [
       "<Figure size 720x360 with 1 Axes>"
      ]
     },
     "metadata": {
      "needs_background": "light"
     },
     "output_type": "display_data"
    }
   ],
   "source": [
    "losses = pd.DataFrame(history.history['loss'])\n",
    "losses.plot(figsize=(10,5))\n",
    "plt.title('Losses')\n",
    "plt.show()"
   ]
  },
  {
   "cell_type": "code",
   "execution_count": 74,
   "metadata": {},
   "outputs": [],
   "source": [
    "# Prediction\n",
    "df_total = pd.concat((df_train['Open'], df_test['Open']), axis = 0)\n",
    "inputs = df_total[len(df_total) - len(df_test) - 60:].values\n",
    "inputs = inputs.reshape(-1,1)\n",
    "inputs = sc.transform(inputs) # Feature Scaling\n",
    "\n",
    "X_test = []\n",
    "for i in range(60, 81):  # timesteps一樣60； 80 = 先前的60天資料+2017年的20天資料\n",
    "    X_test.append(inputs[i-60:i, 0])\n",
    "X_test = np.array(X_test)\n",
    "X_test = np.reshape(X_test, (X_test.shape[0], X_test.shape[1], 1))  # Reshape 成 3-dimension"
   ]
  },
  {
   "cell_type": "code",
   "execution_count": 75,
   "metadata": {},
   "outputs": [],
   "source": [
    "predicted_stock_price = regressor.predict(X_test)\n",
    "predicted_stock_price = sc.inverse_transform(predicted_stock_price)  # to get the original scale"
   ]
  },
  {
   "cell_type": "code",
   "execution_count": 76,
   "metadata": {},
   "outputs": [
    {
     "name": "stdout",
     "output_type": "stream",
     "text": [
      "21\n",
      "21\n"
     ]
    },
    {
     "data": {
      "image/png": "[encoded data removed]",
      "text/plain": [
       "<Figure size 432x288 with 1 Axes>"
      ]
     },
     "metadata": {
      "needs_background": "light"
     },
     "output_type": "display_data"
    }
   ],
   "source": [
    "print(len(testing_set))\n",
    "print(len(predicted_stock_price))\n",
    "# Visualising the results\n",
    "plt.plot(testing_set, color = 'red', label = 'Real TSMC Stock Price')  # 紅線表示真實股價\n",
    "plt.plot(predicted_stock_price, color = 'blue', label = 'Predicted TSMC Stock Price')  # 藍線表示預測股價\n",
    "plt.title('TSMC Price Prediction')\n",
    "plt.xlabel('Time')\n",
    "plt.ylabel('TSMC Stock Price')\n",
    "plt.legend()\n",
    "plt.show()"
   ]
  },
  {
   "cell_type": "code",
   "execution_count": 109,
   "metadata": {},
   "outputs": [
    {
     "name": "stdout",
     "output_type": "stream",
     "text": [
      "Root Mean Squared Error (RSME): 2.7821190285424255\n"
     ]
    },
    {
     "data": {
      "text/html": [
       "<div>\n",
       "<style scoped>\n",
       "    .dataframe tbody tr th:only-of-type {\n",
       "        vertical-align: middle;\n",
       "    }\n",
       "\n",
       "    .dataframe tbody tr th {\n",
       "        vertical-align: top;\n",
       "    }\n",
       "\n",
       "    .dataframe thead th {\n",
       "        text-align: right;\n",
       "    }\n",
       "</style>\n",
       "<table border=\"1\" class=\"dataframe\">\n",
       "  <thead>\n",
       "    <tr style=\"text-align: right;\">\n",
       "      <th></th>\n",
       "      <th>Date</th>\n",
       "      <th>Real Price</th>\n",
       "      <th>Predicted Price</th>\n",
       "    </tr>\n",
       "  </thead>\n",
       "  <tbody>\n",
       "    <tr>\n",
       "      <th>0</th>\n",
       "      <td>2021-08-02</td>\n",
       "      <td>117.500000</td>\n",
       "      <td>117.045769</td>\n",
       "    </tr>\n",
       "    <tr>\n",
       "      <th>1</th>\n",
       "      <td>2021-08-03</td>\n",
       "      <td>117.309998</td>\n",
       "      <td>117.973160</td>\n",
       "    </tr>\n",
       "    <tr>\n",
       "      <th>2</th>\n",
       "      <td>2021-08-04</td>\n",
       "      <td>118.430000</td>\n",
       "      <td>118.546097</td>\n",
       "    </tr>\n",
       "    <tr>\n",
       "      <th>3</th>\n",
       "      <td>2021-08-05</td>\n",
       "      <td>119.070000</td>\n",
       "      <td>119.147919</td>\n",
       "    </tr>\n",
       "    <tr>\n",
       "      <th>4</th>\n",
       "      <td>2021-08-06</td>\n",
       "      <td>118.370003</td>\n",
       "      <td>119.756401</td>\n",
       "    </tr>\n",
       "    <tr>\n",
       "      <th>5</th>\n",
       "      <td>2021-08-09</td>\n",
       "      <td>118.419998</td>\n",
       "      <td>119.874268</td>\n",
       "    </tr>\n",
       "    <tr>\n",
       "      <th>6</th>\n",
       "      <td>2021-08-10</td>\n",
       "      <td>118.500000</td>\n",
       "      <td>119.844818</td>\n",
       "    </tr>\n",
       "    <tr>\n",
       "      <th>7</th>\n",
       "      <td>2021-08-11</td>\n",
       "      <td>116.500000</td>\n",
       "      <td>119.831612</td>\n",
       "    </tr>\n",
       "    <tr>\n",
       "      <th>8</th>\n",
       "      <td>2021-08-12</td>\n",
       "      <td>115.550003</td>\n",
       "      <td>119.143295</td>\n",
       "    </tr>\n",
       "    <tr>\n",
       "      <th>9</th>\n",
       "      <td>2021-08-13</td>\n",
       "      <td>115.070000</td>\n",
       "      <td>118.241386</td>\n",
       "    </tr>\n",
       "    <tr>\n",
       "      <th>10</th>\n",
       "      <td>2021-08-16</td>\n",
       "      <td>115.099998</td>\n",
       "      <td>117.514687</td>\n",
       "    </tr>\n",
       "    <tr>\n",
       "      <th>11</th>\n",
       "      <td>2021-08-17</td>\n",
       "      <td>113.730003</td>\n",
       "      <td>117.133179</td>\n",
       "    </tr>\n",
       "    <tr>\n",
       "      <th>12</th>\n",
       "      <td>2021-08-18</td>\n",
       "      <td>111.739998</td>\n",
       "      <td>116.521858</td>\n",
       "    </tr>\n",
       "    <tr>\n",
       "      <th>13</th>\n",
       "      <td>2021-08-19</td>\n",
       "      <td>109.000000</td>\n",
       "      <td>115.433357</td>\n",
       "    </tr>\n",
       "    <tr>\n",
       "      <th>14</th>\n",
       "      <td>2021-08-20</td>\n",
       "      <td>109.139999</td>\n",
       "      <td>113.809799</td>\n",
       "    </tr>\n",
       "    <tr>\n",
       "      <th>15</th>\n",
       "      <td>2021-08-23</td>\n",
       "      <td>110.080002</td>\n",
       "      <td>112.804062</td>\n",
       "    </tr>\n",
       "    <tr>\n",
       "      <th>16</th>\n",
       "      <td>2021-08-24</td>\n",
       "      <td>111.820000</td>\n",
       "      <td>112.774017</td>\n",
       "    </tr>\n",
       "    <tr>\n",
       "      <th>17</th>\n",
       "      <td>2021-08-25</td>\n",
       "      <td>115.709999</td>\n",
       "      <td>113.614143</td>\n",
       "    </tr>\n",
       "    <tr>\n",
       "      <th>18</th>\n",
       "      <td>2021-08-26</td>\n",
       "      <td>117.980003</td>\n",
       "      <td>115.654449</td>\n",
       "    </tr>\n",
       "    <tr>\n",
       "      <th>19</th>\n",
       "      <td>2021-08-27</td>\n",
       "      <td>118.330002</td>\n",
       "      <td>117.904434</td>\n",
       "    </tr>\n",
       "    <tr>\n",
       "      <th>20</th>\n",
       "      <td>2021-08-30</td>\n",
       "      <td>118.879997</td>\n",
       "      <td>119.301231</td>\n",
       "    </tr>\n",
       "  </tbody>\n",
       "</table>\n",
       "</div>"
      ],
      "text/plain": [
       "          Date  Real Price  Predicted Price\n",
       "0   2021-08-02  117.500000       117.045769\n",
       "1   2021-08-03  117.309998       117.973160\n",
       "2   2021-08-04  118.430000       118.546097\n",
       "3   2021-08-05  119.070000       119.147919\n",
       "4   2021-08-06  118.370003       119.756401\n",
       "5   2021-08-09  118.419998       119.874268\n",
       "6   2021-08-10  118.500000       119.844818\n",
       "7   2021-08-11  116.500000       119.831612\n",
       "8   2021-08-12  115.550003       119.143295\n",
       "9   2021-08-13  115.070000       118.241386\n",
       "10  2021-08-16  115.099998       117.514687\n",
       "11  2021-08-17  113.730003       117.133179\n",
       "12  2021-08-18  111.739998       116.521858\n",
       "13  2021-08-19  109.000000       115.433357\n",
       "14  2021-08-20  109.139999       113.809799\n",
       "15  2021-08-23  110.080002       112.804062\n",
       "16  2021-08-24  111.820000       112.774017\n",
       "17  2021-08-25  115.709999       113.614143\n",
       "18  2021-08-26  117.980003       115.654449\n",
       "19  2021-08-27  118.330002       117.904434\n",
       "20  2021-08-30  118.879997       119.301231"
      ]
     },
     "execution_count": 109,
     "metadata": {},
     "output_type": "execute_result"
    }
   ],
   "source": [
    "from sklearn.metrics import mean_squared_error\n",
    "print(\"Root Mean Squared Error (RSME): {0}\".format(math.sqrt(mean_squared_error(testing_set, predicted_stock_price))))\n",
    "\n",
    "price_table = pd.DataFrame(\n",
    "    {'Date': df_test['Date'].tolist(),     \n",
    "     'Real Price': testing_set.flatten(),\n",
    "     'Predicted Price': predicted_stock_price.flatten()\n",
    "    })\n",
    "price_table\n"
   ]
  },
  {
   "cell_type": "code",
   "execution_count": null,
   "metadata": {},
   "outputs": [],
   "source": []
  }
 ],
 "metadata": {
  "kernelspec": {
   "display_name": "Python 3",
   "language": "python",
   "name": "python3"
  },
  "language_info": {
   "codemirror_mode": {
    "name": "ipython",
    "version": 3
   },
   "file_extension": ".py",
   "mimetype": "text/x-python",
   "name": "python",
   "nbconvert_exporter": "python",
   "pygments_lexer": "ipython3",
   "version": "3.7.3"
  }
 },
 "nbformat": 4,
 "nbformat_minor": 2
}
